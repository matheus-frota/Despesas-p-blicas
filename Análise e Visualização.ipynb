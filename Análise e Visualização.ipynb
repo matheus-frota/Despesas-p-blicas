{
 "cells": [
  {
   "cell_type": "markdown",
   "metadata": {},
   "source": [
    "# Data avalysis"
   ]
  },
  {
   "cell_type": "markdown",
   "metadata": {},
   "source": [
    "### Avaliando e buscando Insights:\n",
    "\n",
    "\n",
    "\n",
    "1. Quanto foi pago de despesas durante o mês?\n",
    "2. Qual foi o orgão superior que mais teve despesas?\n",
    "3. Quem mais se favoreceu com esses despesas do governo?\n",
    "4. Quanto foi gasto com investimentos?\n",
    "\n",
    "Esses foram apenas alguns dos muitos pontos que podem ser respondidos com essa análise de nossos dados."
   ]
  },
  {
   "cell_type": "code",
   "execution_count": 33,
   "metadata": {},
   "outputs": [
    {
     "data": {
      "text/html": [
       "<style type=\"text/css\">\n",
       "table.dataframe td, table.dataframe th {\n",
       "    border: 1px  black solid !important;\n",
       "  color: black !important;\n",
       "}\n"
      ],
      "text/plain": [
       "<IPython.core.display.HTML object>"
      ]
     },
     "metadata": {},
     "output_type": "display_data"
    }
   ],
   "source": [
    "%%HTML\n",
    "<style type=\"text/css\">\n",
    "table.dataframe td, table.dataframe th {\n",
    "    border: 1px  black solid !important;\n",
    "  color: black !important;\n",
    "}"
   ]
  },
  {
   "cell_type": "code",
   "execution_count": 1,
   "metadata": {},
   "outputs": [
    {
     "data": {
      "text/html": [
       "<script type=\"text/javascript\">window.PlotlyConfig = {MathJaxConfig: 'local'};</script><script type=\"text/javascript\">if (window.MathJax) {MathJax.Hub.Config({SVG: {font: \"STIX-Web\"}});}</script><script>requirejs.config({paths: { 'plotly': ['https://cdn.plot.ly/plotly-latest.min']},});if(!window._Plotly) {require(['plotly'],function(plotly) {window._Plotly=plotly;});}</script>"
      ],
      "text/vnd.plotly.v1+html": [
       "<script type=\"text/javascript\">window.PlotlyConfig = {MathJaxConfig: 'local'};</script><script type=\"text/javascript\">if (window.MathJax) {MathJax.Hub.Config({SVG: {font: \"STIX-Web\"}});}</script><script>requirejs.config({paths: { 'plotly': ['https://cdn.plot.ly/plotly-latest.min']},});if(!window._Plotly) {require(['plotly'],function(plotly) {window._Plotly=plotly;});}</script>"
      ]
     },
     "metadata": {},
     "output_type": "display_data"
    }
   ],
   "source": [
    "# Importando bibliotecas\n",
    "import pandas as pd\n",
    "import numpy as np\n",
    "import plotly.offline as py\n",
    "import plotly.graph_objs as go\n",
    "py.init_notebook_mode(connected=True)"
   ]
  },
  {
   "cell_type": "code",
   "execution_count": 2,
   "metadata": {},
   "outputs": [
    {
     "data": {
      "text/html": [
       "<div>\n",
       "<style scoped>\n",
       "    .dataframe tbody tr th:only-of-type {\n",
       "        vertical-align: middle;\n",
       "    }\n",
       "\n",
       "    .dataframe tbody tr th {\n",
       "        vertical-align: top;\n",
       "    }\n",
       "\n",
       "    .dataframe thead th {\n",
       "        text-align: right;\n",
       "    }\n",
       "</style>\n",
       "<table border=\"1\" class=\"dataframe\">\n",
       "  <thead>\n",
       "    <tr style=\"text-align: right;\">\n",
       "      <th></th>\n",
       "      <th>Data_emissao</th>\n",
       "      <th>Tipo_documento</th>\n",
       "      <th>Tipo_ob</th>\n",
       "      <th>Extraorcamentario</th>\n",
       "      <th>Orgao_superior</th>\n",
       "      <th>Orgao</th>\n",
       "      <th>Unidade_gestora</th>\n",
       "      <th>Gestao</th>\n",
       "      <th>Favorecido</th>\n",
       "      <th>Observacao</th>\n",
       "      <th>Processo</th>\n",
       "      <th>Categoria_de_despesa</th>\n",
       "      <th>Grupo_de_despesa</th>\n",
       "      <th>Modalidade_de_aplicacao</th>\n",
       "      <th>Elemento_de_despesa</th>\n",
       "      <th>Valor_original_do_pagamento</th>\n",
       "      <th>Valor_do_pagamento_convertido_pra_r$</th>\n",
       "      <th>Valor_utilizado_na_conversao</th>\n",
       "    </tr>\n",
       "  </thead>\n",
       "  <tbody>\n",
       "    <tr>\n",
       "      <th>0</th>\n",
       "      <td>01/01/2019</td>\n",
       "      <td>Nota de Lançamento de Sistema</td>\n",
       "      <td>Não se aplica</td>\n",
       "      <td>NÃO</td>\n",
       "      <td>MINISTERIO DA EDUCACAO</td>\n",
       "      <td>HOSPITAL DE CLINICAS DE PORTO ALEGRE</td>\n",
       "      <td>HOSPITAL DE CLINICAS DE PORTO ALEGRE</td>\n",
       "      <td>HOSPITAL DE CLINICAS DE PORTO ALEGRE</td>\n",
       "      <td>MARCOS VINICIUS ZINN HUBNER</td>\n",
       "      <td>APROP DA PROPOSTA DE CONCESSAO SF DE MARCOS VI...</td>\n",
       "      <td>Sem processo</td>\n",
       "      <td>DESPESAS CORRENTES</td>\n",
       "      <td>OUTRAS DESPESAS CORRENTES</td>\n",
       "      <td>APLICACOES DIRETAS</td>\n",
       "      <td>Múltiplo</td>\n",
       "      <td>2000.00</td>\n",
       "      <td>2000.00</td>\n",
       "      <td>1.0</td>\n",
       "    </tr>\n",
       "    <tr>\n",
       "      <th>1</th>\n",
       "      <td>02/01/2019</td>\n",
       "      <td>Ordem Bancária</td>\n",
       "      <td>OBC/OBB PARA TERCEIROS EM OUTROS BANCOS</td>\n",
       "      <td>NÃO</td>\n",
       "      <td>MINISTERIO DA CIDADANIA</td>\n",
       "      <td>MINISTERIO DA CIDADANIA - UNIDADES COM VÍNCUL</td>\n",
       "      <td>CEF/MINISTERIO DO ESPORTE</td>\n",
       "      <td>TESOURO NACIONAL</td>\n",
       "      <td>MUNICIPIO DE BREJINHO</td>\n",
       "      <td>OF ESPORTE 641 DE  28/12/2018  CONTRATO: CR.NR...</td>\n",
       "      <td>Sem processo</td>\n",
       "      <td>DESPESAS DE CAPITAL</td>\n",
       "      <td>INVESTIMENTOS</td>\n",
       "      <td>TRANSFERENCIAS A MUNICIPIOS</td>\n",
       "      <td>AUXILIOS - FUNDO A FUNDO</td>\n",
       "      <td>48750.00</td>\n",
       "      <td>48750.00</td>\n",
       "      <td>1.0</td>\n",
       "    </tr>\n",
       "    <tr>\n",
       "      <th>2</th>\n",
       "      <td>02/01/2019</td>\n",
       "      <td>Documento de Arrecadação Federal</td>\n",
       "      <td>Não se aplica</td>\n",
       "      <td>NÃO</td>\n",
       "      <td>MINIST. DA AGRICUL.,PECUARIA E ABASTECIMENTO</td>\n",
       "      <td>SERVICO FLORESTAL BRASILEIRO</td>\n",
       "      <td>SERVICO FLORESTAL BRASILEIRO</td>\n",
       "      <td>TESOURO NACIONAL</td>\n",
       "      <td>SERPRO - SEDE - BRASILIA</td>\n",
       "      <td>RETENCAO DE 9,45 POR CENTO REFERENTE A IN SRF ...</td>\n",
       "      <td>02209001806201841</td>\n",
       "      <td>DESPESAS CORRENTES</td>\n",
       "      <td>OUTRAS DESPESAS CORRENTES</td>\n",
       "      <td>APLICACOES DIRETAS</td>\n",
       "      <td>OUTROS SERVICOS DE TERCEIROS-PESSOA JURIDICA</td>\n",
       "      <td>50.03</td>\n",
       "      <td>50.03</td>\n",
       "      <td>1.0</td>\n",
       "    </tr>\n",
       "    <tr>\n",
       "      <th>3</th>\n",
       "      <td>02/01/2019</td>\n",
       "      <td>Ordem Bancária</td>\n",
       "      <td>OBC/OBB PARA TERCEIROS EM OUTROS BANCOS</td>\n",
       "      <td>NÃO</td>\n",
       "      <td>MINISTERIO DA CIDADANIA</td>\n",
       "      <td>MINISTERIO DA CIDADANIA - UNIDADES COM VÍNCUL</td>\n",
       "      <td>CEF/MINISTERIO DO ESPORTE</td>\n",
       "      <td>TESOURO NACIONAL</td>\n",
       "      <td>MUNICIPIO DE SAO FRANCISCO DE ITABAPOANA</td>\n",
       "      <td>OF ESPORTE 641 DE  28/12/2018  CONTRATO: CR.NR...</td>\n",
       "      <td>Sem processo</td>\n",
       "      <td>DESPESAS DE CAPITAL</td>\n",
       "      <td>INVESTIMENTOS</td>\n",
       "      <td>TRANSFERENCIAS A MUNICIPIOS</td>\n",
       "      <td>AUXILIOS - FUNDO A FUNDO</td>\n",
       "      <td>204750.00</td>\n",
       "      <td>204750.00</td>\n",
       "      <td>1.0</td>\n",
       "    </tr>\n",
       "    <tr>\n",
       "      <th>4</th>\n",
       "      <td>02/01/2019</td>\n",
       "      <td>Ordem Bancária</td>\n",
       "      <td>OBS DE OUTRAS CONTAS PARA CONTA UNICA</td>\n",
       "      <td>NÃO</td>\n",
       "      <td>MINISTERIO DA EDUCACAO</td>\n",
       "      <td>INST.FED.DE EDUC.,CIENC.E TEC.DA BAHIA</td>\n",
       "      <td>INST. FED. DA BAHIA/CAMPUS SEABRA</td>\n",
       "      <td>INST.FED.DE EDUC.,CIENC.E TEC.DA BAHIA</td>\n",
       "      <td>ALICIA VICTORIA ANJOS LIMA</td>\n",
       "      <td>12 - CANCELAMENTO PARCIAL DA 2018OB800770 - 20...</td>\n",
       "      <td>-8</td>\n",
       "      <td>Sem informação</td>\n",
       "      <td>Sem informação</td>\n",
       "      <td>Sem informação</td>\n",
       "      <td>Sem informação</td>\n",
       "      <td>-100.00</td>\n",
       "      <td>-100.00</td>\n",
       "      <td>1.0</td>\n",
       "    </tr>\n",
       "  </tbody>\n",
       "</table>\n",
       "</div>"
      ],
      "text/plain": [
       "  Data_emissao                    Tipo_documento  \\\n",
       "0   01/01/2019     Nota de Lançamento de Sistema   \n",
       "1   02/01/2019                    Ordem Bancária   \n",
       "2   02/01/2019  Documento de Arrecadação Federal   \n",
       "3   02/01/2019                    Ordem Bancária   \n",
       "4   02/01/2019                    Ordem Bancária   \n",
       "\n",
       "                                   Tipo_ob Extraorcamentario  \\\n",
       "0                            Não se aplica               NÃO   \n",
       "1  OBC/OBB PARA TERCEIROS EM OUTROS BANCOS               NÃO   \n",
       "2                            Não se aplica               NÃO   \n",
       "3  OBC/OBB PARA TERCEIROS EM OUTROS BANCOS               NÃO   \n",
       "4    OBS DE OUTRAS CONTAS PARA CONTA UNICA               NÃO   \n",
       "\n",
       "                                 Orgao_superior  \\\n",
       "0                        MINISTERIO DA EDUCACAO   \n",
       "1                       MINISTERIO DA CIDADANIA   \n",
       "2  MINIST. DA AGRICUL.,PECUARIA E ABASTECIMENTO   \n",
       "3                       MINISTERIO DA CIDADANIA   \n",
       "4                        MINISTERIO DA EDUCACAO   \n",
       "\n",
       "                                           Orgao  \\\n",
       "0           HOSPITAL DE CLINICAS DE PORTO ALEGRE   \n",
       "1  MINISTERIO DA CIDADANIA - UNIDADES COM VÍNCUL   \n",
       "2                   SERVICO FLORESTAL BRASILEIRO   \n",
       "3  MINISTERIO DA CIDADANIA - UNIDADES COM VÍNCUL   \n",
       "4         INST.FED.DE EDUC.,CIENC.E TEC.DA BAHIA   \n",
       "\n",
       "                        Unidade_gestora  \\\n",
       "0  HOSPITAL DE CLINICAS DE PORTO ALEGRE   \n",
       "1             CEF/MINISTERIO DO ESPORTE   \n",
       "2          SERVICO FLORESTAL BRASILEIRO   \n",
       "3             CEF/MINISTERIO DO ESPORTE   \n",
       "4     INST. FED. DA BAHIA/CAMPUS SEABRA   \n",
       "\n",
       "                                   Gestao  \\\n",
       "0    HOSPITAL DE CLINICAS DE PORTO ALEGRE   \n",
       "1                        TESOURO NACIONAL   \n",
       "2                        TESOURO NACIONAL   \n",
       "3                        TESOURO NACIONAL   \n",
       "4  INST.FED.DE EDUC.,CIENC.E TEC.DA BAHIA   \n",
       "\n",
       "                                 Favorecido  \\\n",
       "0               MARCOS VINICIUS ZINN HUBNER   \n",
       "1                     MUNICIPIO DE BREJINHO   \n",
       "2                  SERPRO - SEDE - BRASILIA   \n",
       "3  MUNICIPIO DE SAO FRANCISCO DE ITABAPOANA   \n",
       "4                ALICIA VICTORIA ANJOS LIMA   \n",
       "\n",
       "                                          Observacao           Processo  \\\n",
       "0  APROP DA PROPOSTA DE CONCESSAO SF DE MARCOS VI...       Sem processo   \n",
       "1  OF ESPORTE 641 DE  28/12/2018  CONTRATO: CR.NR...       Sem processo   \n",
       "2  RETENCAO DE 9,45 POR CENTO REFERENTE A IN SRF ...  02209001806201841   \n",
       "3  OF ESPORTE 641 DE  28/12/2018  CONTRATO: CR.NR...       Sem processo   \n",
       "4  12 - CANCELAMENTO PARCIAL DA 2018OB800770 - 20...                 -8   \n",
       "\n",
       "  Categoria_de_despesa           Grupo_de_despesa  \\\n",
       "0   DESPESAS CORRENTES  OUTRAS DESPESAS CORRENTES   \n",
       "1  DESPESAS DE CAPITAL              INVESTIMENTOS   \n",
       "2   DESPESAS CORRENTES  OUTRAS DESPESAS CORRENTES   \n",
       "3  DESPESAS DE CAPITAL              INVESTIMENTOS   \n",
       "4       Sem informação             Sem informação   \n",
       "\n",
       "       Modalidade_de_aplicacao                           Elemento_de_despesa  \\\n",
       "0           APLICACOES DIRETAS                                      Múltiplo   \n",
       "1  TRANSFERENCIAS A MUNICIPIOS                      AUXILIOS - FUNDO A FUNDO   \n",
       "2           APLICACOES DIRETAS  OUTROS SERVICOS DE TERCEIROS-PESSOA JURIDICA   \n",
       "3  TRANSFERENCIAS A MUNICIPIOS                      AUXILIOS - FUNDO A FUNDO   \n",
       "4               Sem informação                                Sem informação   \n",
       "\n",
       "   Valor_original_do_pagamento  Valor_do_pagamento_convertido_pra_r$  \\\n",
       "0                      2000.00                               2000.00   \n",
       "1                     48750.00                              48750.00   \n",
       "2                        50.03                                 50.03   \n",
       "3                    204750.00                             204750.00   \n",
       "4                      -100.00                               -100.00   \n",
       "\n",
       "   Valor_utilizado_na_conversao  \n",
       "0                           1.0  \n",
       "1                           1.0  \n",
       "2                           1.0  \n",
       "3                           1.0  \n",
       "4                           1.0  "
      ]
     },
     "execution_count": 2,
     "metadata": {},
     "output_type": "execute_result"
    }
   ],
   "source": [
    "# Abrindo dataframe\n",
    "df = pd.read_csv('pagamentos_janeiro.csv')\n",
    "df.head()"
   ]
  },
  {
   "cell_type": "markdown",
   "metadata": {},
   "source": [
    "#### 1. Gastos\n",
    "\n",
    "Vamos tentar tirar todas as príncipais características de um gastos do governo."
   ]
  },
  {
   "cell_type": "code",
   "execution_count": 3,
   "metadata": {},
   "outputs": [
    {
     "data": {
      "text/html": [
       "<div>\n",
       "<style scoped>\n",
       "    .dataframe tbody tr th:only-of-type {\n",
       "        vertical-align: middle;\n",
       "    }\n",
       "\n",
       "    .dataframe tbody tr th {\n",
       "        vertical-align: top;\n",
       "    }\n",
       "\n",
       "    .dataframe thead th {\n",
       "        text-align: right;\n",
       "    }\n",
       "</style>\n",
       "<table border=\"1\" class=\"dataframe\">\n",
       "  <thead>\n",
       "    <tr style=\"text-align: right;\">\n",
       "      <th></th>\n",
       "      <th>Tipo</th>\n",
       "      <th>Valor_pago</th>\n",
       "    </tr>\n",
       "  </thead>\n",
       "  <tbody>\n",
       "    <tr>\n",
       "      <th>0</th>\n",
       "      <td>Orçamentaria</td>\n",
       "      <td>3.088074e+11</td>\n",
       "    </tr>\n",
       "    <tr>\n",
       "      <th>1</th>\n",
       "      <td>Extraorçamentaria</td>\n",
       "      <td>3.693431e+11</td>\n",
       "    </tr>\n",
       "  </tbody>\n",
       "</table>\n",
       "</div>"
      ],
      "text/plain": [
       "                Tipo    Valor_pago\n",
       "0       Orçamentaria  3.088074e+11\n",
       "1  Extraorçamentaria  3.693431e+11"
      ]
     },
     "execution_count": 3,
     "metadata": {},
     "output_type": "execute_result"
    }
   ],
   "source": [
    "# Agrupando a soma dos gastos Extraorçamentario e Orçamentario.\n",
    "dic = {}\n",
    "tipo = df['Extraorcamentario'].unique()\n",
    "for i in tipo:\n",
    "    sep = df.query('Extraorcamentario == \"{}\"'.format(i))\n",
    "    if i == 'SIM':\n",
    "        dic['Extraorçamentaria'] = sep['Valor_original_do_pagamento'].sum()\n",
    "    elif i == 'NÃO':\n",
    "        dic['Orçamentaria'] = sep['Valor_original_do_pagamento'].sum()\n",
    "\n",
    "despesa_extra = pd.DataFrame({'Tipo': list(dic.keys()),'Valor_pago': list(dic.values())})\n",
    "despesa_extra"
   ]
  },
  {
   "cell_type": "code",
   "execution_count": 4,
   "metadata": {
    "scrolled": true
   },
   "outputs": [
    {
     "data": {
      "application/vnd.plotly.v1+json": {
       "config": {
        "linkText": "Export to plot.ly",
        "plotlyServerURL": "https://plot.ly",
        "showLink": false
       },
       "data": [
        {
         "marker": {
          "color": "#30336b"
         },
         "opacity": 0.4,
         "type": "bar",
         "uid": "f5923199-b848-42d1-9cd8-a5d508867501",
         "x": [
          "Orçamentaria",
          "Extraorçamentaria"
         ],
         "y": [
          308807407998.97015,
          369343091375.11005
         ]
        }
       ],
       "layout": {
        "barmode": "stack",
        "title": {
         "text": "Gráfico de comparação das despesas públicas."
        },
        "xaxis": {
         "title": {
          "text": "Tipo de despesa"
         }
        },
        "yaxis": {
         "title": {
          "text": "Valor pago em R$"
         }
        }
       }
      },
      "text/html": [
       "<div id=\"4fd013d9-1805-4aa6-b6d4-cb55d8009f59\" style=\"height: 525px; width: 100%;\" class=\"plotly-graph-div\"></div><script type=\"text/javascript\">require([\"plotly\"], function(Plotly) { window.PLOTLYENV=window.PLOTLYENV || {};window.PLOTLYENV.BASE_URL=\"https://plot.ly\";Plotly.newPlot(\"4fd013d9-1805-4aa6-b6d4-cb55d8009f59\", [{\"marker\": {\"color\": \"#30336b\"}, \"opacity\": 0.4, \"x\": [\"Or\\u00e7amentaria\", \"Extraor\\u00e7amentaria\"], \"y\": [308807407998.97015, 369343091375.11005], \"type\": \"bar\", \"uid\": \"f5923199-b848-42d1-9cd8-a5d508867501\"}], {\"barmode\": \"stack\", \"title\": {\"text\": \"Gr\\u00e1fico de compara\\u00e7\\u00e3o das despesas p\\u00fablicas.\"}, \"xaxis\": {\"title\": {\"text\": \"Tipo de despesa\"}}, \"yaxis\": {\"title\": {\"text\": \"Valor pago em R$\"}}}, {\"showLink\": false, \"linkText\": \"Export to plot.ly\", \"plotlyServerURL\": \"https://plot.ly\"})});</script><script type=\"text/javascript\">window.addEventListener(\"resize\", function(){window._Plotly.Plots.resize(document.getElementById(\"4fd013d9-1805-4aa6-b6d4-cb55d8009f59\"));});</script>"
      ],
      "text/vnd.plotly.v1+html": [
       "<div id=\"4fd013d9-1805-4aa6-b6d4-cb55d8009f59\" style=\"height: 525px; width: 100%;\" class=\"plotly-graph-div\"></div><script type=\"text/javascript\">require([\"plotly\"], function(Plotly) { window.PLOTLYENV=window.PLOTLYENV || {};window.PLOTLYENV.BASE_URL=\"https://plot.ly\";Plotly.newPlot(\"4fd013d9-1805-4aa6-b6d4-cb55d8009f59\", [{\"marker\": {\"color\": \"#30336b\"}, \"opacity\": 0.4, \"x\": [\"Or\\u00e7amentaria\", \"Extraor\\u00e7amentaria\"], \"y\": [308807407998.97015, 369343091375.11005], \"type\": \"bar\", \"uid\": \"f5923199-b848-42d1-9cd8-a5d508867501\"}], {\"barmode\": \"stack\", \"title\": {\"text\": \"Gr\\u00e1fico de compara\\u00e7\\u00e3o das despesas p\\u00fablicas.\"}, \"xaxis\": {\"title\": {\"text\": \"Tipo de despesa\"}}, \"yaxis\": {\"title\": {\"text\": \"Valor pago em R$\"}}}, {\"showLink\": false, \"linkText\": \"Export to plot.ly\", \"plotlyServerURL\": \"https://plot.ly\"})});</script><script type=\"text/javascript\">window.addEventListener(\"resize\", function(){window._Plotly.Plots.resize(document.getElementById(\"4fd013d9-1805-4aa6-b6d4-cb55d8009f59\"));});</script>"
      ]
     },
     "metadata": {},
     "output_type": "display_data"
    }
   ],
   "source": [
    "# Para melhorar o entendimento dessas análises, vamos exibir essas comparações de forma gráfica.\n",
    "bar = go.Bar(x = despesa_extra['Tipo'],\n",
    "             y = despesa_extra['Valor_pago'],\n",
    "             marker = {'color': '#30336b'},\n",
    "             opacity=0.4)\n",
    "\n",
    "layout = go.Layout(title = 'Gráfico de comparação das despesas públicas.',\n",
    "                   xaxis = {'title': 'Tipo de despesa'},\n",
    "                   yaxis = {'title': 'Valor pago em R$'},\n",
    "                   barmode = 'stack')\n",
    "\n",
    "data = [bar]\n",
    "fig = go.Figure(data = data, layout=layout)\n",
    "py.iplot(fig)"
   ]
  },
  {
   "cell_type": "markdown",
   "metadata": {},
   "source": [
    "Uma breve explicação sobre esses tipos de despesa:\n",
    "* **Orçamentária**: É aquela fixada no orçamento público, logo, para sua realização depende de autorização legislativa.\n",
    "* **Extraorçamentária**: São aquelas não previstas no orçamento. Sua execução independe de autorização legislativa. Correspondem à restituição ou entrega de valores arrecadados sob o título de receita extra-orçamentária"
   ]
  },
  {
   "cell_type": "markdown",
   "metadata": {},
   "source": [
    "#### 2. Orgão superior com maior número de despesas."
   ]
  },
  {
   "cell_type": "code",
   "execution_count": 5,
   "metadata": {},
   "outputs": [
    {
     "data": {
      "text/html": [
       "<div>\n",
       "<style scoped>\n",
       "    .dataframe tbody tr th:only-of-type {\n",
       "        vertical-align: middle;\n",
       "    }\n",
       "\n",
       "    .dataframe tbody tr th {\n",
       "        vertical-align: top;\n",
       "    }\n",
       "\n",
       "    .dataframe thead th {\n",
       "        text-align: right;\n",
       "    }\n",
       "</style>\n",
       "<table border=\"1\" class=\"dataframe\">\n",
       "  <thead>\n",
       "    <tr style=\"text-align: right;\">\n",
       "      <th></th>\n",
       "      <th>Valor_original_do_pagamento</th>\n",
       "    </tr>\n",
       "    <tr>\n",
       "      <th>Orgao_superior</th>\n",
       "      <th></th>\n",
       "    </tr>\n",
       "  </thead>\n",
       "  <tbody>\n",
       "    <tr>\n",
       "      <th>MINISTERIO DA ECONOMIA</th>\n",
       "      <td>6.002459e+11</td>\n",
       "    </tr>\n",
       "    <tr>\n",
       "      <th>MINISTERIO DA PREVIDENCIA SOCIAL</th>\n",
       "      <td>4.202331e+10</td>\n",
       "    </tr>\n",
       "    <tr>\n",
       "      <th>MINISTERIO DA EDUCACAO</th>\n",
       "      <td>1.192133e+10</td>\n",
       "    </tr>\n",
       "    <tr>\n",
       "      <th>MINISTERIO DA DEFESA</th>\n",
       "      <td>7.190943e+09</td>\n",
       "    </tr>\n",
       "    <tr>\n",
       "      <th>MINISTERIO DA SAUDE</th>\n",
       "      <td>3.739030e+09</td>\n",
       "    </tr>\n",
       "  </tbody>\n",
       "</table>\n",
       "</div>"
      ],
      "text/plain": [
       "                                  Valor_original_do_pagamento\n",
       "Orgao_superior                                               \n",
       "MINISTERIO DA ECONOMIA                           6.002459e+11\n",
       "MINISTERIO DA PREVIDENCIA SOCIAL                 4.202331e+10\n",
       "MINISTERIO DA EDUCACAO                           1.192133e+10\n",
       "MINISTERIO DA DEFESA                             7.190943e+09\n",
       "MINISTERIO DA SAUDE                              3.739030e+09"
      ]
     },
     "execution_count": 5,
     "metadata": {},
     "output_type": "execute_result"
    }
   ],
   "source": [
    "# Separando em grupos para facilitar a comparação de qual será o ministério que mais teve despesas.\n",
    "despesa_ministerios = df.groupby(['Orgao_superior'])[['Valor_original_do_pagamento']].sum()\n",
    "\n",
    "# Colocando em ordem decrescente os gastos dos ministérios.\n",
    "despesa_ministerios = despesa_ministerios.sort_values('Valor_original_do_pagamento', ascending = False)\n",
    "despesa_ministerios.head()"
   ]
  },
  {
   "cell_type": "code",
   "execution_count": 6,
   "metadata": {},
   "outputs": [
    {
     "data": {
      "application/vnd.plotly.v1+json": {
       "config": {
        "linkText": "Export to plot.ly",
        "plotlyServerURL": "https://plot.ly",
        "showLink": false
       },
       "data": [
        {
         "marker": {
          "color": "rgb(158,202,225)",
          "line": {
           "color": "rgb(8,48,107)",
           "width": 1.5
          }
         },
         "opacity": 0.6,
         "type": "bar",
         "uid": "f63b0956-5205-4336-8cc9-d0aee9268bcc",
         "x": [
          "M. DA ECONOMIA",
          "M. DA PREVIDENCIA SOCIAL",
          "M. DA EDUCACAO",
          "M. DA DEFESA",
          "M. DA SAUDE"
         ],
         "y": [
          600245853102.6594,
          42023310317.830284,
          11921332535.949535,
          7190943118.819926,
          3739030150.9200053
         ]
        }
       ],
       "layout": {
        "barmode": "stack",
        "title": {
         "text": "Gráfico dos 5 orgãos com maior despesa em janeiro/19."
        },
        "xaxis": {
         "title": {
          "text": "Ministérios"
         }
        },
        "yaxis": {
         "title": {
          "text": "Valor pago em R$"
         }
        }
       }
      },
      "text/html": [
       "<div id=\"ce70e982-38c2-4f77-8c55-8d1693f63d6b\" style=\"height: 525px; width: 100%;\" class=\"plotly-graph-div\"></div><script type=\"text/javascript\">require([\"plotly\"], function(Plotly) { window.PLOTLYENV=window.PLOTLYENV || {};window.PLOTLYENV.BASE_URL=\"https://plot.ly\";Plotly.newPlot(\"ce70e982-38c2-4f77-8c55-8d1693f63d6b\", [{\"marker\": {\"color\": \"rgb(158,202,225)\", \"line\": {\"color\": \"rgb(8,48,107)\", \"width\": 1.5}}, \"opacity\": 0.6, \"x\": [\"M. DA ECONOMIA\", \"M. DA PREVIDENCIA SOCIAL\", \"M. DA EDUCACAO\", \"M. DA DEFESA\", \"M. DA SAUDE\"], \"y\": [600245853102.6594, 42023310317.830284, 11921332535.949535, 7190943118.819926, 3739030150.9200053], \"type\": \"bar\", \"uid\": \"f63b0956-5205-4336-8cc9-d0aee9268bcc\"}], {\"barmode\": \"stack\", \"title\": {\"text\": \"Gr\\u00e1fico dos 5 org\\u00e3os com maior despesa em janeiro/19.\"}, \"xaxis\": {\"title\": {\"text\": \"Minist\\u00e9rios\"}}, \"yaxis\": {\"title\": {\"text\": \"Valor pago em R$\"}}}, {\"showLink\": false, \"linkText\": \"Export to plot.ly\", \"plotlyServerURL\": \"https://plot.ly\"})});</script><script type=\"text/javascript\">window.addEventListener(\"resize\", function(){window._Plotly.Plots.resize(document.getElementById(\"ce70e982-38c2-4f77-8c55-8d1693f63d6b\"));});</script>"
      ],
      "text/vnd.plotly.v1+html": [
       "<div id=\"ce70e982-38c2-4f77-8c55-8d1693f63d6b\" style=\"height: 525px; width: 100%;\" class=\"plotly-graph-div\"></div><script type=\"text/javascript\">require([\"plotly\"], function(Plotly) { window.PLOTLYENV=window.PLOTLYENV || {};window.PLOTLYENV.BASE_URL=\"https://plot.ly\";Plotly.newPlot(\"ce70e982-38c2-4f77-8c55-8d1693f63d6b\", [{\"marker\": {\"color\": \"rgb(158,202,225)\", \"line\": {\"color\": \"rgb(8,48,107)\", \"width\": 1.5}}, \"opacity\": 0.6, \"x\": [\"M. DA ECONOMIA\", \"M. DA PREVIDENCIA SOCIAL\", \"M. DA EDUCACAO\", \"M. DA DEFESA\", \"M. DA SAUDE\"], \"y\": [600245853102.6594, 42023310317.830284, 11921332535.949535, 7190943118.819926, 3739030150.9200053], \"type\": \"bar\", \"uid\": \"f63b0956-5205-4336-8cc9-d0aee9268bcc\"}], {\"barmode\": \"stack\", \"title\": {\"text\": \"Gr\\u00e1fico dos 5 org\\u00e3os com maior despesa em janeiro/19.\"}, \"xaxis\": {\"title\": {\"text\": \"Minist\\u00e9rios\"}}, \"yaxis\": {\"title\": {\"text\": \"Valor pago em R$\"}}}, {\"showLink\": false, \"linkText\": \"Export to plot.ly\", \"plotlyServerURL\": \"https://plot.ly\"})});</script><script type=\"text/javascript\">window.addEventListener(\"resize\", function(){window._Plotly.Plots.resize(document.getElementById(\"ce70e982-38c2-4f77-8c55-8d1693f63d6b\"));});</script>"
      ]
     },
     "metadata": {},
     "output_type": "display_data"
    }
   ],
   "source": [
    "# Plotando o gráfico dos 5 ministerios com maior número de gastos\n",
    "data2 = [go.Bar(x = despesa_ministerios.index[:5].str.replace('MINISTERIO','M.'),\n",
    "                y = despesa_ministerios['Valor_original_do_pagamento'][:5],\n",
    "                marker=dict(\n",
    "                color='rgb(158,202,225)',\n",
    "                line=dict(\n",
    "                    color='rgb(8,48,107)',\n",
    "                    width=1.5),\n",
    "                ),\n",
    "                opacity=0.6)]\n",
    "\n",
    "layout2 = go.Layout(title = 'Gráfico dos 5 orgãos com maior despesa em janeiro/19.',\n",
    "                   xaxis = {'title': 'Ministérios'},\n",
    "                   yaxis = {'title': 'Valor pago em R$'},\n",
    "                   barmode = 'stack')\n",
    "\n",
    "fig2 = go.Figure(data = data2, layout=layout2)\n",
    "py.iplot(fig2)"
   ]
  },
  {
   "cell_type": "markdown",
   "metadata": {},
   "source": [
    "#### 2.1. Despesas diárias do minitério da economia."
   ]
  },
  {
   "cell_type": "code",
   "execution_count": 7,
   "metadata": {},
   "outputs": [
    {
     "data": {
      "text/plain": [
       "(47668, 18)"
      ]
     },
     "execution_count": 7,
     "metadata": {},
     "output_type": "execute_result"
    }
   ],
   "source": [
    "# Selecionando o ministerio e pegando apenas seus gastos diarios.\n",
    "dme = df.query('Orgao_superior == \"MINISTERIO DA ECONOMIA\"')\n",
    "dme_valor = dme.groupby('Data_emissao')[['Valor_original_do_pagamento']].sum()\n",
    "#mdd = df.query('Orgao_superior != \"MINISTERIO DA ECONOMIA\"').groupby('Data_emissao')[['Valor_original_do_pagamento']].sum()\n",
    "#mdd\n",
    "dme.shape"
   ]
  },
  {
   "cell_type": "code",
   "execution_count": 8,
   "metadata": {},
   "outputs": [
    {
     "data": {
      "application/vnd.plotly.v1+json": {
       "config": {
        "linkText": "Export to plot.ly",
        "plotlyServerURL": "https://plot.ly",
        "showLink": false
       },
       "data": [
        {
         "type": "scatter",
         "uid": "319ddfaa-00c6-47bc-9aa4-0f7df173b477",
         "x": [
          "02/01/2019",
          "03/01/2019",
          "04/01/2019",
          "05/01/2019",
          "07/01/2019",
          "08/01/2019",
          "09/01/2019",
          "10/01/2019",
          "11/01/2019",
          "14/01/2019",
          "15/01/2019",
          "16/01/2019",
          "17/01/2019",
          "18/01/2019",
          "21/01/2019",
          "22/01/2019",
          "23/01/2019",
          "24/01/2019",
          "25/01/2019",
          "28/01/2019",
          "29/01/2019",
          "30/01/2019",
          "31/01/2019"
         ],
         "y": [
          202328613786.43982,
          213665555603.18994,
          29393804848.399975,
          -2027.94,
          246207791.72000003,
          4613490194.650002,
          27314424379.180004,
          8264412279.749979,
          19833311462.26002,
          3559612587.47001,
          2415886571.500001,
          492644.78000000014,
          4811837406.409958,
          10401120844.809952,
          3811389123.620013,
          2162606972.4300146,
          7187339800.429994,
          16447814198.339962,
          20449845730.349976,
          3522459793.7600102,
          11707387819.270082,
          3506379086.5800037,
          4601862205.270008
         ]
        }
       ],
       "layout": {}
      },
      "text/html": [
       "<div id=\"39e928f2-010b-414a-ae0e-761c33651ca9\" style=\"height: 525px; width: 100%;\" class=\"plotly-graph-div\"></div><script type=\"text/javascript\">require([\"plotly\"], function(Plotly) { window.PLOTLYENV=window.PLOTLYENV || {};window.PLOTLYENV.BASE_URL=\"https://plot.ly\";Plotly.newPlot(\"39e928f2-010b-414a-ae0e-761c33651ca9\", [{\"x\": [\"02/01/2019\", \"03/01/2019\", \"04/01/2019\", \"05/01/2019\", \"07/01/2019\", \"08/01/2019\", \"09/01/2019\", \"10/01/2019\", \"11/01/2019\", \"14/01/2019\", \"15/01/2019\", \"16/01/2019\", \"17/01/2019\", \"18/01/2019\", \"21/01/2019\", \"22/01/2019\", \"23/01/2019\", \"24/01/2019\", \"25/01/2019\", \"28/01/2019\", \"29/01/2019\", \"30/01/2019\", \"31/01/2019\"], \"y\": [202328613786.43982, 213665555603.18994, 29393804848.399975, -2027.94, 246207791.72000003, 4613490194.650002, 27314424379.180004, 8264412279.749979, 19833311462.26002, 3559612587.47001, 2415886571.500001, 492644.78000000014, 4811837406.409958, 10401120844.809952, 3811389123.620013, 2162606972.4300146, 7187339800.429994, 16447814198.339962, 20449845730.349976, 3522459793.7600102, 11707387819.270082, 3506379086.5800037, 4601862205.270008], \"type\": \"scatter\", \"uid\": \"d56e1af4-5b01-4657-aaae-4cef2712616b\"}], {}, {\"showLink\": false, \"linkText\": \"Export to plot.ly\", \"plotlyServerURL\": \"https://plot.ly\"})});</script><script type=\"text/javascript\">window.addEventListener(\"resize\", function(){window._Plotly.Plots.resize(document.getElementById(\"39e928f2-010b-414a-ae0e-761c33651ca9\"));});</script>"
      ],
      "text/vnd.plotly.v1+html": [
       "<div id=\"39e928f2-010b-414a-ae0e-761c33651ca9\" style=\"height: 525px; width: 100%;\" class=\"plotly-graph-div\"></div><script type=\"text/javascript\">require([\"plotly\"], function(Plotly) { window.PLOTLYENV=window.PLOTLYENV || {};window.PLOTLYENV.BASE_URL=\"https://plot.ly\";Plotly.newPlot(\"39e928f2-010b-414a-ae0e-761c33651ca9\", [{\"x\": [\"02/01/2019\", \"03/01/2019\", \"04/01/2019\", \"05/01/2019\", \"07/01/2019\", \"08/01/2019\", \"09/01/2019\", \"10/01/2019\", \"11/01/2019\", \"14/01/2019\", \"15/01/2019\", \"16/01/2019\", \"17/01/2019\", \"18/01/2019\", \"21/01/2019\", \"22/01/2019\", \"23/01/2019\", \"24/01/2019\", \"25/01/2019\", \"28/01/2019\", \"29/01/2019\", \"30/01/2019\", \"31/01/2019\"], \"y\": [202328613786.43982, 213665555603.18994, 29393804848.399975, -2027.94, 246207791.72000003, 4613490194.650002, 27314424379.180004, 8264412279.749979, 19833311462.26002, 3559612587.47001, 2415886571.500001, 492644.78000000014, 4811837406.409958, 10401120844.809952, 3811389123.620013, 2162606972.4300146, 7187339800.429994, 16447814198.339962, 20449845730.349976, 3522459793.7600102, 11707387819.270082, 3506379086.5800037, 4601862205.270008], \"type\": \"scatter\", \"uid\": \"d56e1af4-5b01-4657-aaae-4cef2712616b\"}], {}, {\"showLink\": false, \"linkText\": \"Export to plot.ly\", \"plotlyServerURL\": \"https://plot.ly\"})});</script><script type=\"text/javascript\">window.addEventListener(\"resize\", function(){window._Plotly.Plots.resize(document.getElementById(\"39e928f2-010b-414a-ae0e-761c33651ca9\"));});</script>"
      ]
     },
     "metadata": {},
     "output_type": "display_data"
    }
   ],
   "source": [
    "# Plotando a curva de gastos diárias do ministério.\n",
    "trace1 = go.Scatter(x = dme_valor.index,\n",
    "                   y = dme_valor['Valor_original_do_pagamento'],\n",
    "                   )\n",
    "#trace2 = go.Scatter(x = mdd.index,\n",
    "#                   y = mdd['Valor_original_do_pagamento'],\n",
    "#                   )\n",
    "\n",
    "data3 = [trace1]\n",
    "py.iplot(data3)"
   ]
  },
  {
   "cell_type": "markdown",
   "metadata": {},
   "source": [
    "Para entender melhor esses gastos, vamos exibir os tipos de despesas e seus gastos envolvidos em uma tabela."
   ]
  },
  {
   "cell_type": "code",
   "execution_count": 17,
   "metadata": {
    "scrolled": true
   },
   "outputs": [
    {
     "data": {
      "text/html": [
       "<div>\n",
       "<style scoped>\n",
       "    .dataframe tbody tr th:only-of-type {\n",
       "        vertical-align: middle;\n",
       "    }\n",
       "\n",
       "    .dataframe tbody tr th {\n",
       "        vertical-align: top;\n",
       "    }\n",
       "\n",
       "    .dataframe thead th {\n",
       "        text-align: right;\n",
       "    }\n",
       "</style>\n",
       "<table border=\"1\" class=\"dataframe\">\n",
       "  <thead>\n",
       "    <tr style=\"text-align: right;\">\n",
       "      <th></th>\n",
       "      <th>Valor_original_do_pagamento</th>\n",
       "    </tr>\n",
       "    <tr>\n",
       "      <th>Favorecido</th>\n",
       "      <th></th>\n",
       "    </tr>\n",
       "  </thead>\n",
       "  <tbody>\n",
       "    <tr>\n",
       "      <th>RESGATE DE APLIC. DISPONIB. TN - ADM. DIV. PUBL</th>\n",
       "      <td>2.146128e+11</td>\n",
       "    </tr>\n",
       "    <tr>\n",
       "      <th>PAGAMENTO DA DIVIDA INTERNA</th>\n",
       "      <td>1.993830e+11</td>\n",
       "    </tr>\n",
       "    <tr>\n",
       "      <th>RECEBIMENTO DE EMISSÃO DE TITULOS</th>\n",
       "      <td>6.648115e+10</td>\n",
       "    </tr>\n",
       "    <tr>\n",
       "      <th>PAGAMENTOS DO INSS AO TESOURO NACIONAL</th>\n",
       "      <td>3.850480e+10</td>\n",
       "    </tr>\n",
       "    <tr>\n",
       "      <th>FUNDOS DE PARTICIPACAO - FPM E FPE</th>\n",
       "      <td>1.917077e+10</td>\n",
       "    </tr>\n",
       "  </tbody>\n",
       "</table>\n",
       "</div>"
      ],
      "text/plain": [
       "                                                 Valor_original_do_pagamento\n",
       "Favorecido                                                                  \n",
       "RESGATE DE APLIC. DISPONIB. TN - ADM. DIV. PUBL                 2.146128e+11\n",
       "PAGAMENTO DA DIVIDA INTERNA                                     1.993830e+11\n",
       "RECEBIMENTO DE EMISSÃO DE TITULOS                               6.648115e+10\n",
       "PAGAMENTOS DO INSS AO TESOURO NACIONAL                          3.850480e+10\n",
       "FUNDOS DE PARTICIPACAO - FPM E FPE                              1.917077e+10"
      ]
     },
     "execution_count": 17,
     "metadata": {},
     "output_type": "execute_result"
    }
   ],
   "source": [
    "# Pegando apenas o ministério da economia e tentando entender seus gastos.\n",
    "test = dme.groupby(['Favorecido'])[['Valor_original_do_pagamento']].sum()\n",
    "favorecido = test.sort_values('Valor_original_do_pagamento',ascending = False)\n",
    "favorecido.head()"
   ]
  },
  {
   "cell_type": "code",
   "execution_count": 32,
   "metadata": {},
   "outputs": [
    {
     "data": {
      "text/html": [
       "<div>\n",
       "<style scoped>\n",
       "    .dataframe tbody tr th:only-of-type {\n",
       "        vertical-align: middle;\n",
       "    }\n",
       "\n",
       "    .dataframe tbody tr th {\n",
       "        vertical-align: top;\n",
       "    }\n",
       "\n",
       "    .dataframe thead th {\n",
       "        text-align: right;\n",
       "    }\n",
       "</style>\n",
       "<table border=\"1\" class=\"dataframe\">\n",
       "  <thead>\n",
       "    <tr style=\"text-align: right;\">\n",
       "      <th></th>\n",
       "      <th>Valor_original_do_pagamento</th>\n",
       "    </tr>\n",
       "    <tr>\n",
       "      <th>Grupo_de_despesa</th>\n",
       "      <th></th>\n",
       "    </tr>\n",
       "  </thead>\n",
       "  <tbody>\n",
       "    <tr>\n",
       "      <th>Sem informação</th>\n",
       "      <td>3.688955e+11</td>\n",
       "    </tr>\n",
       "    <tr>\n",
       "      <th>Múltiplo</th>\n",
       "      <td>2.086571e+11</td>\n",
       "    </tr>\n",
       "    <tr>\n",
       "      <th>OUTRAS DESPESAS CORRENTES</th>\n",
       "      <td>8.230415e+10</td>\n",
       "    </tr>\n",
       "    <tr>\n",
       "      <th>PESSOAL E ENCARGOS SOCIAIS</th>\n",
       "      <td>1.307199e+10</td>\n",
       "    </tr>\n",
       "    <tr>\n",
       "      <th>JUROS E ENCARGOS DA DIVIDA</th>\n",
       "      <td>2.810715e+09</td>\n",
       "    </tr>\n",
       "    <tr>\n",
       "      <th>INVESTIMENTOS</th>\n",
       "      <td>1.115551e+09</td>\n",
       "    </tr>\n",
       "    <tr>\n",
       "      <th>INVERSOES FINANCEIRAS</th>\n",
       "      <td>9.448319e+08</td>\n",
       "    </tr>\n",
       "    <tr>\n",
       "      <th>AMORTIZACAO/REFINANCIAMENTO DA DIVIDA</th>\n",
       "      <td>3.506320e+08</td>\n",
       "    </tr>\n",
       "  </tbody>\n",
       "</table>\n",
       "</div>"
      ],
      "text/plain": [
       "                                       Valor_original_do_pagamento\n",
       "Grupo_de_despesa                                                  \n",
       "Sem informação                                        3.688955e+11\n",
       "Múltiplo                                              2.086571e+11\n",
       "OUTRAS DESPESAS CORRENTES                             8.230415e+10\n",
       "PESSOAL E ENCARGOS SOCIAIS                            1.307199e+10\n",
       "JUROS E ENCARGOS DA DIVIDA                            2.810715e+09\n",
       "INVESTIMENTOS                                         1.115551e+09\n",
       "INVERSOES FINANCEIRAS                                 9.448319e+08\n",
       "AMORTIZACAO/REFINANCIAMENTO DA DIVIDA                 3.506320e+08"
      ]
     },
     "execution_count": 32,
     "metadata": {},
     "output_type": "execute_result"
    }
   ],
   "source": [
    "# Retornando os tipos de despesas que ocorreram nesse mês.\n",
    "#invest = df.query('Grupo_de_despesa == \"INVESTIMENTOS\"')\n",
    "#invest.head()\n",
    "investimento = df.groupby(['Grupo_de_despesa'])[['Valor_original_do_pagamento']].sum()\n",
    "investimento = investimento.sort_values('Valor_original_do_pagamento',ascending = False)\n",
    "investimento"
   ]
  },
  {
   "cell_type": "code",
   "execution_count": null,
   "metadata": {},
   "outputs": [],
   "source": []
  }
 ],
 "metadata": {
  "kernelspec": {
   "display_name": "Python 3",
   "language": "python",
   "name": "python3"
  },
  "language_info": {
   "codemirror_mode": {
    "name": "ipython",
    "version": 3
   },
   "file_extension": ".py",
   "mimetype": "text/x-python",
   "name": "python",
   "nbconvert_exporter": "python",
   "pygments_lexer": "ipython3",
   "version": "3.7.1"
  }
 },
 "nbformat": 4,
 "nbformat_minor": 2
}
